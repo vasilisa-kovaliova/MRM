{
 "cells": [
  {
   "cell_type": "markdown",
   "metadata": {},
   "source": [
    "Функция принимает на вход название белка и выдает по нему информацию"
   ]
  },
  {
   "cell_type": "markdown",
   "metadata": {},
   "source": [
    "На вход подаются аргументы:\n",
    "- protein (интересующая болезнь)\n",
    "- table = tb2 (используемая таблица ассоциаций белков и болезней)\n",
    "\n",
    "На выходе:\n",
    "- связанные классы заболеваний\n",
    "- количество связанных болезней\n",
    "- перечисление связанных болезней"
   ]
  },
  {
   "cell_type": "code",
   "execution_count": 9,
   "metadata": {},
   "outputs": [
    {
     "name": "stdout",
     "output_type": "stream",
     "text": [
      "Связанные классы заболеваний: Болезни женских половых органов и осложнения беременности, Заболевания нервной системы, Болезни имунной системы, Оториноларингологические заболевания , Раны и травмы, Заболевания дыхательной системы, Заболевания опорно-двигательной системы, Новообразования, Патологические состояния, признаки и симптомы, Болезни сердечно-сосудистой системы, \n",
      "Количество болезней: 15\n",
      "Связанные заболевания: Chronic Lung Injury, Endometrioma, Pleural Diseases, Lung Injury, Nonsyndromic Deafness, melanoma, Osteoarthritis of hip, Asthma, Endometriosis, Varicosity, \n"
     ]
    }
   ],
   "source": [
    "info_protein(\"Tenascin C\")"
   ]
  },
  {
   "cell_type": "code",
   "execution_count": 3,
   "metadata": {},
   "outputs": [],
   "source": [
    "# загрузка необходимых таблиц\n",
    "\n",
    "import pandas as pd\n",
    "\n",
    "tb2 = pd.read_csv(\"tb2.tsv\", sep = \"\\t\")"
   ]
  },
  {
   "cell_type": "code",
   "execution_count": 4,
   "metadata": {},
   "outputs": [],
   "source": [
    "def info_protein(protein, table = tb2):\n",
    "    # функция принимает на вход белок\n",
    "    # и выдает по нему информацию\n",
    "    # с какими классами болезней ассоциирован\n",
    "    # со сколькими болезнями ассоциирован\n",
    "    # с какими болезнями ассоциирован\n",
    "    \n",
    "    table = table[table[\"Protein\"] == protein]\n",
    "    classes = list(set(table[\"disease\"]))\n",
    "    diseases = list(set(table[\"diseaseName\"]))\n",
    "    text = \"Связанные классы заболеваний: \"\n",
    "    for item in classes:\n",
    "        text = text + item + \", \"\n",
    "    text = text + \"\\n\" + \"Количество болезней: \" + str(len(table)) + \"\\n\" + \"Связанные заболевания: \"\n",
    "    for disease in diseases:\n",
    "        text = text + disease + \", \"\n",
    "    print(text)"
   ]
  }
 ],
 "metadata": {
  "kernelspec": {
   "display_name": "Python 3",
   "language": "python",
   "name": "python3"
  },
  "language_info": {
   "codemirror_mode": {
    "name": "ipython",
    "version": 3
   },
   "file_extension": ".py",
   "mimetype": "text/x-python",
   "name": "python",
   "nbconvert_exporter": "python",
   "pygments_lexer": "ipython3",
   "version": "3.8.3"
  }
 },
 "nbformat": 4,
 "nbformat_minor": 4
}

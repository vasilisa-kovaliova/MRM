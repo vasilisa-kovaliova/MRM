{
 "cells": [
  {
   "cell_type": "markdown",
   "metadata": {},
   "source": [
    "Функция принимает на вход название белка и выдает по нему информацию"
   ]
  },
  {
   "cell_type": "code",
   "execution_count": 1,
   "metadata": {},
   "outputs": [],
   "source": [
    "# загрузка необходимых таблиц\n",
    "\n",
    "import pandas as pd\n",
    "\n",
    "tb2 = pd.read_csv(\"tb2.tsv\", sep = \"\\t\")\n",
    "edges_df = pd.read_csv(\"edges_df.tsv\", sep = \"\\t\")\n",
    "#nodes_df = pd.read_csv(\"C:/Users/a120/MRM/nodes_df.tsv\", sep = \"\\t\")"
   ]
  },
  {
   "cell_type": "code",
   "execution_count": 3,
   "metadata": {},
   "outputs": [
    {
     "name": "stdout",
     "output_type": "stream",
     "text": [
      "Связанные классы заболеваний: Болезни женских половых органов и осложнения беременности, Оториноларингологические заболевания , Патологические состояния, признаки и симптомы, Заболевания дыхательной системы, Заболевания нервной системы, Новообразования, Болезни имунной системы, Раны и травмы, Заболевания опорно-двигательной системы, Болезни сердечно-сосудистой системы, \n",
      "Количество болезней: 15\n",
      "Связанные заболевания: Osteoarthritis of hip, Chronic Lung Injury, Asthma, Varicosity, Nonsyndromic Deafness, Endometriosis, Lung Injury, Pleural Diseases, melanoma, Endometrioma, \n"
     ]
    }
   ],
   "source": [
    "info_protein(\"Tenascin\")"
   ]
  },
  {
   "cell_type": "code",
   "execution_count": 2,
   "metadata": {},
   "outputs": [],
   "source": [
    "def info_protein(protein, table = tb2):\n",
    "    # функция принимает на вход белок\n",
    "    # и выдает по нему информацию\n",
    "    # с какими классами болезней ассоциирован\n",
    "    # со сколькими болезнями ассоциирован\n",
    "    # с какими болезнями ассоциирован\n",
    "    \n",
    "    table = table[table[\"Protein\"] == protein]\n",
    "    classes = list(set(table[\"disease\"]))\n",
    "    diseases = list(set(table[\"diseaseName\"]))\n",
    "    text = \"Связанные классы заболеваний: \"\n",
    "    for item in classes:\n",
    "        text = text + item + \", \"\n",
    "    text = text + \"\\n\" + \"Количество болезней: \" + str(len(table)) + \"\\n\" + \"Связанные заболевания: \"\n",
    "    for disease in diseases:\n",
    "        text = text + disease + \", \"\n",
    "    print(text)"
   ]
  }
 ],
 "metadata": {
  "kernelspec": {
   "display_name": "Python 3",
   "language": "python",
   "name": "python3"
  },
  "language_info": {
   "codemirror_mode": {
    "name": "ipython",
    "version": 3
   },
   "file_extension": ".py",
   "mimetype": "text/x-python",
   "name": "python",
   "nbconvert_exporter": "python",
   "pygments_lexer": "ipython3",
   "version": "3.8.3"
  }
 },
 "nbformat": 4,
 "nbformat_minor": 4
}

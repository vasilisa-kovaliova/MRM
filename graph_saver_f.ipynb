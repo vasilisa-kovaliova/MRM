{
 "cells": [
  {
   "cell_type": "code",
   "execution_count": 139,
   "metadata": {},
   "outputs": [
    {
     "data": {
      "text/plain": [
       "{'data': [],\n",
       " 'directed': False,\n",
       " 'multigraph': False,\n",
       " 'elements': {'nodes': [{'data': {'id': 'Tenascin',\n",
       "     'value': 'Tenascin',\n",
       "     'name': 'Tenascin'}},\n",
       "   {'data': {'id': 'Lung Injury',\n",
       "     'value': 'Lung Injury',\n",
       "     'name': 'Lung Injury'}},\n",
       "   {'data': {'id': 'Chronic Lung Injury',\n",
       "     'value': 'Chronic Lung Injury',\n",
       "     'name': 'Chronic Lung Injury'}}],\n",
       "  'edges': [{'data': {'source': 'Tenascin', 'target': 'Lung Injury'}},\n",
       "   {'data': {'source': 'Tenascin', 'target': 'Chronic Lung Injury'}}]}}"
      ]
     },
     "execution_count": 139,
     "metadata": {},
     "output_type": "execute_result"
    }
   ],
   "source": [
    "plot_graph(proteins = [\"Tenascin\"], diseases = [\"Drug toxicity\", \"Раны и травмы\"], depth = 1)"
   ]
  },
  {
   "cell_type": "code",
   "execution_count": 1,
   "metadata": {},
   "outputs": [],
   "source": [
    "# загрузка необходимых таблиц\n",
    "\n",
    "import pandas as pd\n",
    "\n",
    "tb2 = pd.read_csv(\"tb2.tsv\", sep = \"\\t\")\n",
    "#edges_df = pd.read_csv(\"edges_df.tsv\", sep = \"\\t\")\n",
    "dis = pd.read_csv(\"diseases.tsv\", sep = \"\\t\")\n",
    "#nodes_df = pd.read_csv(\"C:/Users/a120/MRM/nodes_df.tsv\", sep = \"\\t\")"
   ]
  },
  {
   "cell_type": "code",
   "execution_count": 2,
   "metadata": {},
   "outputs": [],
   "source": [
    "def concat(*args):\n",
    "    return pd.concat([x for x in args if not x.empty])"
   ]
  },
  {
   "cell_type": "code",
   "execution_count": 62,
   "metadata": {},
   "outputs": [],
   "source": [
    "# загрузка необходимых пакетов\n",
    "\n",
    "import pandas as pd\n",
    "import networkx\n",
    "import matplotlib.pyplot as plt\n",
    "import numpy as np\n",
    "from io import StringIO"
   ]
  },
  {
   "cell_type": "code",
   "execution_count": 138,
   "metadata": {},
   "outputs": [],
   "source": [
    "def plot_graph(table = tb2, proteins = None, diseases = None, depth = 0):\n",
    "    # функция строит граф ассоциации болезнь-белок и записывает граф в текстовый файл GEFX\n",
    "    # на вход подается таблица, список белков и список болезней\n",
    "    # список белков и список болезней - в формате списка []\n",
    "    # аргумент depth показывает, до какой \"глубины\" нужно рисовать граф:\n",
    "    # только про классы или про болезни вообще\n",
    "    # depth = 0 --> только про классы (если изначально как diseases не введена болезнь)\n",
    "    # depth = 1 --> про болезни\n",
    "    \n",
    "    diseases_list = []\n",
    "    classes_list = []\n",
    "    table1 = pd.DataFrame()\n",
    "    table2 = pd.DataFrame()\n",
    "    \n",
    "    if diseases != None:\n",
    "        for item in diseases:\n",
    "            if item in list(dis.diseaseName):\n",
    "                diseases_list.append(item)\n",
    "            if item in list(dis.disease):\n",
    "                classes_list.append(item)\n",
    "    \n",
    "    if depth == 0:\n",
    "        if proteins != None:\n",
    "            proteins = pd.DataFrame(proteins)\n",
    "            proteins.columns = [\"Protein\"]\n",
    "            table = table.merge(proteins, on = \"Protein\")\n",
    "        \n",
    "        if len(diseases_list) != 0:\n",
    "            diseases_list = pd.DataFrame(diseases_list)\n",
    "            diseases_list.columns = [\"diseaseName\"]\n",
    "            table1 = table.merge(diseases_list, on = \"diseaseName\")\n",
    "            \n",
    "        if len(classes_list) != 0:\n",
    "            classes_list = pd.DataFrame(classes_list)\n",
    "            classes_list.columns = [\"disease\"]\n",
    "            table2 = table.merge(classes_list, on = \"disease\")\n",
    "            \n",
    "        if not table1.empty or not table2.empty:\n",
    "            table = concat(*[table1, table2])\n",
    "            table = table.drop_duplicates()\n",
    "        # собственно, создаем граф    \n",
    "        G = networkx.from_pandas_edgelist(table, \"Protein\", \"disease\")\n",
    "            \n",
    "    elif depth == 1:\n",
    "        if proteins != None:\n",
    "            proteins = pd.DataFrame(proteins)\n",
    "            proteins.columns = [\"Protein\"]\n",
    "            table = table.merge(proteins, on = \"Protein\")\n",
    "        if len(diseases_list) != 0:\n",
    "            diseases_list = pd.DataFrame(diseases_list)\n",
    "            diseases_list.columns = [\"diseaseName\"]\n",
    "            table1 = table.merge(diseases_list, on = \"diseaseName\")\n",
    "        if len(classes_list) != 0:\n",
    "            classes_list = pd.DataFrame(classes_list)\n",
    "            classes_list.columns = [\"disease\"]\n",
    "            table2 = table.merge(classes_list, on = \"disease\")\n",
    "        if not table1.empty or not table2.empty:\n",
    "            table = concat(*[table1, table2])\n",
    "            table = table.drop_duplicates()\n",
    "        # собственно, создаем граф\n",
    "        G = networkx.from_pandas_edgelist(table, \"Protein\", \"diseaseName\")\n",
    "\n",
    "    return networkx.cytoscape_data(G)"
   ]
  },
  {
   "cell_type": "code",
   "execution_count": 61,
   "metadata": {},
   "outputs": [],
   "source": []
  }
 ],
 "metadata": {
  "kernelspec": {
   "display_name": "Python 3",
   "language": "python",
   "name": "python3"
  },
  "language_info": {
   "codemirror_mode": {
    "name": "ipython",
    "version": 3
   },
   "file_extension": ".py",
   "mimetype": "text/x-python",
   "name": "python",
   "nbconvert_exporter": "python",
   "pygments_lexer": "ipython3",
   "version": "3.8.3"
  }
 },
 "nbformat": 4,
 "nbformat_minor": 4
}

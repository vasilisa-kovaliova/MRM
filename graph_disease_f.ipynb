{
 "cells": [
  {
   "cell_type": "code",
   "execution_count": 19,
   "metadata": {},
   "outputs": [
    {
     "data": {
      "application/vnd.jupyter.widget-view+json": {
       "model_id": "0030f076d31a4c67aab2444ce7ccca5a",
       "version_major": 2,
       "version_minor": 0
      },
      "text/plain": [
       "CytoscapeWidget(cytoscape_layout={'name': 'cola'}, cytoscape_style=[{'selector': 'node', 'style': {'font-famil…"
      ]
     },
     "metadata": {},
     "output_type": "display_data"
    }
   ],
   "source": [
    "graph_disease([\"Extravasation of Contrast Media\", \"Intracranial Hematoma, Traumatic\"], view = \"c\")"
   ]
  },
  {
   "cell_type": "code",
   "execution_count": 2,
   "metadata": {},
   "outputs": [],
   "source": [
    "# загрузка необходимых пакетов\n",
    "\n",
    "import pandas as pd\n",
    "import networkx\n",
    "import matplotlib.pyplot as plt\n",
    "import numpy as np\n",
    "from bokeh.io import output_notebook, show, save\n",
    "from bokeh.models import Range1d, Circle, ColumnDataSource, MultiLine\n",
    "from bokeh.plotting import figure\n",
    "from bokeh.plotting import from_networkx\n",
    "from bokeh.plotting import output_file\n",
    "from bokeh.palettes import Blues8, Reds8, Purples8, Oranges8, Viridis8, Spectral8\n",
    "from bokeh.transform import linear_cmap\n",
    "\n",
    "import ipycytoscape\n",
    "import ipywidgets\n",
    "import json"
   ]
  },
  {
   "cell_type": "code",
   "execution_count": 16,
   "metadata": {},
   "outputs": [],
   "source": [
    "# загрузка необходимых таблиц\n",
    "\n",
    "dis = pd.read_csv(\"diseases.tsv\", sep = \"\\t\")"
   ]
  },
  {
   "cell_type": "code",
   "execution_count": 13,
   "metadata": {},
   "outputs": [],
   "source": [
    "def graph_disease(diseases, table = dis, view = \"b\"):\n",
    "    # функция строит граф - классификацию болезней\n",
    "    # на вход: список болезней (в формате списка []), используемая таблица, вид\n",
    "    # вид - какой модуль функция будет использовать,\n",
    "    # \"b\" --> bokeh\n",
    "    # \"c\" --> ipycytoscape\n",
    "    \n",
    "    diseases = pd.DataFrame(diseases)\n",
    "    diseases.columns = [\"diseaseName\"]\n",
    "    table = table.merge(diseases, on = \"diseaseName\")\n",
    "    G = networkx.from_pandas_edgelist(table, \"diseaseName\", \"disease\")\n",
    "    if view == \"b\":\n",
    "        # аутпут в ноутбук\n",
    "        output_notebook()\n",
    "\n",
    "        # подгонка размера и цвета\n",
    "        degrees = dict(networkx.degree(G))\n",
    "        networkx.set_node_attributes(G, name='degree', values=degrees)\n",
    "        number_to_adjust_by = 5\n",
    "        adjusted_node_size = dict([(node, 0.3*degree+number_to_adjust_by) for node, degree in networkx.degree(G)])\n",
    "        networkx.set_node_attributes(G, name='adjusted_node_size', values=adjusted_node_size)\n",
    "        size_by_this_attribute = 'adjusted_node_size'\n",
    "        color_by_this_attribute = 'adjusted_node_size'\n",
    "\n",
    "        # Blues8, Reds8, Purples8, Oranges8, Viridis8\n",
    "        color_palette = Reds8\n",
    "\n",
    "        title = 'Diseases'\n",
    "\n",
    "        # hovering\n",
    "        HOVER_TOOLTIPS = [(\"Type\", \"@index\"), (\"Degree\", \"@degree\")]\n",
    "\n",
    "        plot = figure(tooltips = HOVER_TOOLTIPS,\n",
    "              tools=\"pan,wheel_zoom,save,reset\", active_scroll='wheel_zoom',\n",
    "            x_range=Range1d(-10.1, 10.1), y_range=Range1d(-10.1, 10.1), title=title)\n",
    "\n",
    "        # network graph object\n",
    "        network_graph = from_networkx(G, networkx.spring_layout, scale=10, center=(0, 0))\n",
    "\n",
    "        # node sizes and colors according to node degree\n",
    "        minimum_value_color = max(network_graph.node_renderer.data_source.data[color_by_this_attribute])\n",
    "        maximum_value_color = min(network_graph.node_renderer.data_source.data[color_by_this_attribute])\n",
    "        network_graph.node_renderer.glyph = Circle(size=size_by_this_attribute, fill_color=linear_cmap(color_by_this_attribute, color_palette, minimum_value_color, maximum_value_color))\n",
    "\n",
    "        # edge opacity and width\n",
    "        network_graph.edge_renderer.glyph = MultiLine(line_alpha=0.5, line_width=1)\n",
    "        plot.renderers.append(network_graph)\n",
    "        show(plot)\n",
    "        \n",
    "    if view == \"c\":\n",
    "        classes_list = list(set(table[\"disease\"]))\n",
    "        diseases_list= list(set(table[\"diseaseName\"]))\n",
    "\n",
    "        my_style = [{'selector': 'node','style': {'font-family': 'arial','font-size': '10px','label': 'data(id)','background-color': 'red'}}]\n",
    "\n",
    "        for item in classes_list:\n",
    "            text = \"node[id = \\\"\" + item + \"\\\"]\"\n",
    "            my_style.append({'selector': text,'style': {'font-family': 'arial','font-size': '10px','label': item,'background-color': 'green'}})\n",
    "        for item in diseases_list:\n",
    "            text = \"node[id = \\\"\" + item + \"\\\"]\"\n",
    "            my_style.append({'selector': text,'style': {'font-family': 'arial','font-size': '10px','label': item,'background-color': 'blue'}})\n",
    "\n",
    "        ipycytoscape_obj = ipycytoscape.CytoscapeWidget()\n",
    "        ipycytoscape_obj.graph.add_graph_from_networkx(G)\n",
    "        ipycytoscape_obj.set_style(my_style)\n",
    "        ipycytoscape_obj.set_style(my_style)\n",
    "        return ipycytoscape_obj"
   ]
  }
 ],
 "metadata": {
  "kernelspec": {
   "display_name": "Python 3",
   "language": "python",
   "name": "python3"
  },
  "language_info": {
   "codemirror_mode": {
    "name": "ipython",
    "version": 3
   },
   "file_extension": ".py",
   "mimetype": "text/x-python",
   "name": "python",
   "nbconvert_exporter": "python",
   "pygments_lexer": "ipython3",
   "version": "3.8.3"
  }
 },
 "nbformat": 4,
 "nbformat_minor": 4
}

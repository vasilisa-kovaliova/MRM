{
 "cells": [
  {
   "cell_type": "markdown",
   "metadata": {},
   "source": [
    "Функция принимает на вход название болезни и выдает по ней информацию"
   ]
  },
  {
   "cell_type": "code",
   "execution_count": 5,
   "metadata": {},
   "outputs": [],
   "source": [
    "# загрузка необходимых таблиц\n",
    "\n",
    "import pandas as pd\n",
    "\n",
    "tb2 = pd.read_csv(\"tb2.tsv\", sep = \"\\t\")\n",
    "edges_df = pd.read_csv(\"edges_df.tsv\", sep = \"\\t\")\n",
    "#nodes_df = pd.read_csv(\"C:/Users/a120/MRM/nodes_df.tsv\", sep = \"\\t\")"
   ]
  },
  {
   "cell_type": "code",
   "execution_count": 13,
   "metadata": {},
   "outputs": [
    {
     "name": "stdout",
     "output_type": "stream",
     "text": [
      "Класс заболевания: Заболевания дыхательной системы, Раны и травмы, \n",
      "Количество белков-маркеров: 5\n",
      "Белки-маркеры: Serum albumin, Tumor necrosis factor receptor superfamily member 1A, Tenascin, Beta-nerve growth factor, Interleukin-6, \n"
     ]
    }
   ],
   "source": [
    "info_disease(\"Chronic Lung Injury\")"
   ]
  },
  {
   "cell_type": "code",
   "execution_count": 12,
   "metadata": {},
   "outputs": [],
   "source": [
    "def info_disease(disease, table = tb2):\n",
    "    # функция принимает на вход белок\n",
    "    # и выдает по нему информацию\n",
    "    # с какими классами болезней ассоциирован\n",
    "    # со сколькими болезнями ассоциирован\n",
    "    # с какими болезнями ассоциирован\n",
    "    \n",
    "    table = table[table[\"diseaseName\"] == disease]\n",
    "    diseaseClass = list(set(table.disease[table[\"diseaseName\"] == disease]))\n",
    "    proteins = list(set(table.Protein[table[\"diseaseName\"] == disease]))\n",
    "    text = \"Класс заболевания: \"\n",
    "    for item in diseaseClass:\n",
    "        text = text + item + \", \"\n",
    "    text = text + \"\\n\" + \"Количество белков-маркеров: \" + str(len(set(table.Protein[table[\"diseaseName\"] == disease]))) + \"\\n\" + \"Белки-маркеры: \"\n",
    "    for item in proteins:\n",
    "        text = text + item + \", \"\n",
    "    print(text)"
   ]
  }
 ],
 "metadata": {
  "kernelspec": {
   "display_name": "Python 3",
   "language": "python",
   "name": "python3"
  },
  "language_info": {
   "codemirror_mode": {
    "name": "ipython",
    "version": 3
   },
   "file_extension": ".py",
   "mimetype": "text/x-python",
   "name": "python",
   "nbconvert_exporter": "python",
   "pygments_lexer": "ipython3",
   "version": "3.8.3"
  }
 },
 "nbformat": 4,
 "nbformat_minor": 4
}
